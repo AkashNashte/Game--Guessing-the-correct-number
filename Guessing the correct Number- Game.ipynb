{
 "cells": [
  {
   "cell_type": "code",
   "execution_count": 1,
   "id": "4b46dc16",
   "metadata": {},
   "outputs": [],
   "source": [
    "import random"
   ]
  },
  {
   "cell_type": "code",
   "execution_count": 2,
   "id": "5c85491b",
   "metadata": {},
   "outputs": [
    {
     "data": {
      "text/plain": [
       "88"
      ]
     },
     "execution_count": 2,
     "metadata": {},
     "output_type": "execute_result"
    }
   ],
   "source": [
    "random.randint(1,100)\n"
   ]
  },
  {
   "cell_type": "code",
   "execution_count": 3,
   "id": "7c33a9e4",
   "metadata": {},
   "outputs": [
    {
     "name": "stdout",
     "output_type": "stream",
     "text": [
      "Guss the Number50\n",
      "Guess Higher\n",
      "Guess the Number60\n",
      "Guess Higher\n",
      "Guess the Number70\n",
      "Guess Higher\n",
      "Guess the Number85\n",
      "Guess Higher\n",
      "Guess the Number88\n",
      "Guess Lower\n",
      "Guess the Number87\n",
      " Correct Answer\n",
      "You took 6 attempts\n"
     ]
    }
   ],
   "source": [
    "jackpot = random.randint(1,100)\n",
    "\n",
    "guess = int(input(\"Guss the Number\"))\n",
    "counter = 1 \n",
    "\n",
    "while guess != jackpot:\n",
    "    if guess < jackpot:\n",
    "        print(\"Guess Higher\")\n",
    "    else: \n",
    "        print(\"Guess Lower\")\n",
    "        \n",
    "    guess = int(input(\"Guess the Number\"))\n",
    "    counter+=1 \n",
    "    \n",
    "    \n",
    "print(\" Correct Answer\")\n",
    "print(\"You took\", counter, \"attempts\")\n"
   ]
  },
  {
   "cell_type": "code",
   "execution_count": null,
   "id": "bcb49407",
   "metadata": {},
   "outputs": [],
   "source": []
  }
 ],
 "metadata": {
  "kernelspec": {
   "display_name": "Python 3 (ipykernel)",
   "language": "python",
   "name": "python3"
  },
  "language_info": {
   "codemirror_mode": {
    "name": "ipython",
    "version": 3
   },
   "file_extension": ".py",
   "mimetype": "text/x-python",
   "name": "python",
   "nbconvert_exporter": "python",
   "pygments_lexer": "ipython3",
   "version": "3.11.4"
  }
 },
 "nbformat": 4,
 "nbformat_minor": 5
}
